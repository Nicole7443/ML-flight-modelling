{
 "cells": [
  {
   "cell_type": "markdown",
   "id": "e408cbe8",
   "metadata": {},
   "source": [
    "# Data Cleaning"
   ]
  },
  {
   "cell_type": "code",
   "execution_count": 1,
   "id": "ab27503d",
   "metadata": {},
   "outputs": [],
   "source": [
    "import pandas as pd\n",
    "import numpy as np\n",
    "from datetime import datetime\n",
    "%matplotlib inline"
   ]
  },
  {
   "cell_type": "code",
   "execution_count": 12,
   "id": "0855b64a",
   "metadata": {
    "scrolled": true
   },
   "outputs": [
    {
     "data": {
      "text/html": [
       "<div>\n",
       "<style scoped>\n",
       "    .dataframe tbody tr th:only-of-type {\n",
       "        vertical-align: middle;\n",
       "    }\n",
       "\n",
       "    .dataframe tbody tr th {\n",
       "        vertical-align: top;\n",
       "    }\n",
       "\n",
       "    .dataframe thead th {\n",
       "        text-align: right;\n",
       "    }\n",
       "</style>\n",
       "<table border=\"1\" class=\"dataframe\">\n",
       "  <thead>\n",
       "    <tr style=\"text-align: right;\">\n",
       "      <th></th>\n",
       "      <th>FL_DATE</th>\n",
       "      <th>OP_CARRIER</th>\n",
       "      <th>OP_CARRIER_FL_NUM</th>\n",
       "      <th>ORIGIN</th>\n",
       "      <th>DEST</th>\n",
       "      <th>CRS_DEP_TIME</th>\n",
       "      <th>DEP_TIME</th>\n",
       "      <th>DEP_DELAY</th>\n",
       "      <th>TAXI_OUT</th>\n",
       "      <th>WHEELS_OFF</th>\n",
       "      <th>...</th>\n",
       "      <th>CRS_ELAPSED_TIME</th>\n",
       "      <th>ACTUAL_ELAPSED_TIME</th>\n",
       "      <th>AIR_TIME</th>\n",
       "      <th>DISTANCE</th>\n",
       "      <th>CARRIER_DELAY</th>\n",
       "      <th>WEATHER_DELAY</th>\n",
       "      <th>NAS_DELAY</th>\n",
       "      <th>SECURITY_DELAY</th>\n",
       "      <th>LATE_AIRCRAFT_DELAY</th>\n",
       "      <th>Unnamed: 27</th>\n",
       "    </tr>\n",
       "  </thead>\n",
       "  <tbody>\n",
       "    <tr>\n",
       "      <th>0</th>\n",
       "      <td>2018-01-01</td>\n",
       "      <td>UA</td>\n",
       "      <td>2429</td>\n",
       "      <td>EWR</td>\n",
       "      <td>DEN</td>\n",
       "      <td>1517</td>\n",
       "      <td>1512.0</td>\n",
       "      <td>-5.0</td>\n",
       "      <td>15.0</td>\n",
       "      <td>1527.0</td>\n",
       "      <td>...</td>\n",
       "      <td>268.0</td>\n",
       "      <td>250.0</td>\n",
       "      <td>225.0</td>\n",
       "      <td>1605.0</td>\n",
       "      <td>NaN</td>\n",
       "      <td>NaN</td>\n",
       "      <td>NaN</td>\n",
       "      <td>NaN</td>\n",
       "      <td>NaN</td>\n",
       "      <td>NaN</td>\n",
       "    </tr>\n",
       "    <tr>\n",
       "      <th>1</th>\n",
       "      <td>2018-01-01</td>\n",
       "      <td>UA</td>\n",
       "      <td>2427</td>\n",
       "      <td>LAS</td>\n",
       "      <td>SFO</td>\n",
       "      <td>1115</td>\n",
       "      <td>1107.0</td>\n",
       "      <td>-8.0</td>\n",
       "      <td>11.0</td>\n",
       "      <td>1118.0</td>\n",
       "      <td>...</td>\n",
       "      <td>99.0</td>\n",
       "      <td>83.0</td>\n",
       "      <td>65.0</td>\n",
       "      <td>414.0</td>\n",
       "      <td>NaN</td>\n",
       "      <td>NaN</td>\n",
       "      <td>NaN</td>\n",
       "      <td>NaN</td>\n",
       "      <td>NaN</td>\n",
       "      <td>NaN</td>\n",
       "    </tr>\n",
       "    <tr>\n",
       "      <th>2</th>\n",
       "      <td>2018-01-01</td>\n",
       "      <td>UA</td>\n",
       "      <td>2426</td>\n",
       "      <td>SNA</td>\n",
       "      <td>DEN</td>\n",
       "      <td>1335</td>\n",
       "      <td>1330.0</td>\n",
       "      <td>-5.0</td>\n",
       "      <td>15.0</td>\n",
       "      <td>1345.0</td>\n",
       "      <td>...</td>\n",
       "      <td>134.0</td>\n",
       "      <td>126.0</td>\n",
       "      <td>106.0</td>\n",
       "      <td>846.0</td>\n",
       "      <td>NaN</td>\n",
       "      <td>NaN</td>\n",
       "      <td>NaN</td>\n",
       "      <td>NaN</td>\n",
       "      <td>NaN</td>\n",
       "      <td>NaN</td>\n",
       "    </tr>\n",
       "    <tr>\n",
       "      <th>3</th>\n",
       "      <td>2018-01-01</td>\n",
       "      <td>UA</td>\n",
       "      <td>2425</td>\n",
       "      <td>RSW</td>\n",
       "      <td>ORD</td>\n",
       "      <td>1546</td>\n",
       "      <td>1552.0</td>\n",
       "      <td>6.0</td>\n",
       "      <td>19.0</td>\n",
       "      <td>1611.0</td>\n",
       "      <td>...</td>\n",
       "      <td>190.0</td>\n",
       "      <td>182.0</td>\n",
       "      <td>157.0</td>\n",
       "      <td>1120.0</td>\n",
       "      <td>NaN</td>\n",
       "      <td>NaN</td>\n",
       "      <td>NaN</td>\n",
       "      <td>NaN</td>\n",
       "      <td>NaN</td>\n",
       "      <td>NaN</td>\n",
       "    </tr>\n",
       "    <tr>\n",
       "      <th>4</th>\n",
       "      <td>2018-01-01</td>\n",
       "      <td>UA</td>\n",
       "      <td>2424</td>\n",
       "      <td>ORD</td>\n",
       "      <td>ALB</td>\n",
       "      <td>630</td>\n",
       "      <td>650.0</td>\n",
       "      <td>20.0</td>\n",
       "      <td>13.0</td>\n",
       "      <td>703.0</td>\n",
       "      <td>...</td>\n",
       "      <td>112.0</td>\n",
       "      <td>106.0</td>\n",
       "      <td>83.0</td>\n",
       "      <td>723.0</td>\n",
       "      <td>NaN</td>\n",
       "      <td>NaN</td>\n",
       "      <td>NaN</td>\n",
       "      <td>NaN</td>\n",
       "      <td>NaN</td>\n",
       "      <td>NaN</td>\n",
       "    </tr>\n",
       "  </tbody>\n",
       "</table>\n",
       "<p>5 rows × 28 columns</p>\n",
       "</div>"
      ],
      "text/plain": [
       "      FL_DATE OP_CARRIER  OP_CARRIER_FL_NUM ORIGIN DEST  CRS_DEP_TIME  \\\n",
       "0  2018-01-01         UA               2429    EWR  DEN          1517   \n",
       "1  2018-01-01         UA               2427    LAS  SFO          1115   \n",
       "2  2018-01-01         UA               2426    SNA  DEN          1335   \n",
       "3  2018-01-01         UA               2425    RSW  ORD          1546   \n",
       "4  2018-01-01         UA               2424    ORD  ALB           630   \n",
       "\n",
       "   DEP_TIME  DEP_DELAY  TAXI_OUT  WHEELS_OFF  ...  CRS_ELAPSED_TIME  \\\n",
       "0    1512.0       -5.0      15.0      1527.0  ...             268.0   \n",
       "1    1107.0       -8.0      11.0      1118.0  ...              99.0   \n",
       "2    1330.0       -5.0      15.0      1345.0  ...             134.0   \n",
       "3    1552.0        6.0      19.0      1611.0  ...             190.0   \n",
       "4     650.0       20.0      13.0       703.0  ...             112.0   \n",
       "\n",
       "   ACTUAL_ELAPSED_TIME  AIR_TIME  DISTANCE  CARRIER_DELAY  WEATHER_DELAY  \\\n",
       "0                250.0     225.0    1605.0            NaN            NaN   \n",
       "1                 83.0      65.0     414.0            NaN            NaN   \n",
       "2                126.0     106.0     846.0            NaN            NaN   \n",
       "3                182.0     157.0    1120.0            NaN            NaN   \n",
       "4                106.0      83.0     723.0            NaN            NaN   \n",
       "\n",
       "  NAS_DELAY  SECURITY_DELAY  LATE_AIRCRAFT_DELAY  Unnamed: 27  \n",
       "0       NaN             NaN                  NaN          NaN  \n",
       "1       NaN             NaN                  NaN          NaN  \n",
       "2       NaN             NaN                  NaN          NaN  \n",
       "3       NaN             NaN                  NaN          NaN  \n",
       "4       NaN             NaN                  NaN          NaN  \n",
       "\n",
       "[5 rows x 28 columns]"
      ]
     },
     "execution_count": 12,
     "metadata": {},
     "output_type": "execute_result"
    }
   ],
   "source": [
    "# read data and check first few rows\n",
    "plane_df = pd.read_csv('2018.csv')\n",
    "plane_df.head()"
   ]
  },
  {
   "cell_type": "code",
   "execution_count": 13,
   "id": "531d504f",
   "metadata": {},
   "outputs": [
    {
     "name": "stdout",
     "output_type": "stream",
     "text": [
      "<class 'pandas.core.frame.DataFrame'>\n",
      "RangeIndex: 7213446 entries, 0 to 7213445\n",
      "Data columns (total 28 columns):\n",
      " #   Column               Dtype  \n",
      "---  ------               -----  \n",
      " 0   FL_DATE              object \n",
      " 1   OP_CARRIER           object \n",
      " 2   OP_CARRIER_FL_NUM    int64  \n",
      " 3   ORIGIN               object \n",
      " 4   DEST                 object \n",
      " 5   CRS_DEP_TIME         int64  \n",
      " 6   DEP_TIME             float64\n",
      " 7   DEP_DELAY            float64\n",
      " 8   TAXI_OUT             float64\n",
      " 9   WHEELS_OFF           float64\n",
      " 10  WHEELS_ON            float64\n",
      " 11  TAXI_IN              float64\n",
      " 12  CRS_ARR_TIME         int64  \n",
      " 13  ARR_TIME             float64\n",
      " 14  ARR_DELAY            float64\n",
      " 15  CANCELLED            float64\n",
      " 16  CANCELLATION_CODE    object \n",
      " 17  DIVERTED             float64\n",
      " 18  CRS_ELAPSED_TIME     float64\n",
      " 19  ACTUAL_ELAPSED_TIME  float64\n",
      " 20  AIR_TIME             float64\n",
      " 21  DISTANCE             float64\n",
      " 22  CARRIER_DELAY        float64\n",
      " 23  WEATHER_DELAY        float64\n",
      " 24  NAS_DELAY            float64\n",
      " 25  SECURITY_DELAY       float64\n",
      " 26  LATE_AIRCRAFT_DELAY  float64\n",
      " 27  Unnamed: 27          float64\n",
      "dtypes: float64(20), int64(3), object(5)\n",
      "memory usage: 1.5+ GB\n"
     ]
    }
   ],
   "source": [
    "#Check the data types\n",
    "plane_df.info()"
   ]
  },
  {
   "cell_type": "markdown",
   "id": "64a20855",
   "metadata": {},
   "source": [
    "There are 28 columns in this dataset. Categorical are labelled as C and Numerical are labelled as N:\n",
    "\n",
    "* FL_DATE: Date of the flight, yy/mm/dd (N)\n",
    "* OP_CARRIER: Airline Identifier (C)\n",
    "* OP_CARRIER_FL_NUM: Flight Number (C)\n",
    "* ORIGIN: Starting Airport Code (C)\n",
    "* DEST: Destination Airport Code (C)\n",
    "* CRS_DEP_TIME: Planned Departure Time (N)\n",
    "* DEP_TIME: Actual Departure Time (N)\n",
    "* DEP_DELAY: Total Delay on Departure in minutes (N)\n",
    "* TAXI_OUT: The time duration elapsed between departure from the origin airport gate and wheels off (N)\n",
    "* WHEELS_OFF: The time point that the aircraft's wheels leave the ground (N)\n",
    "* WHEELS_ON: The time point that the aircraft's wheels touch on the ground (N)\n",
    "* TAXI_IN: The time duration elapsed between wheels-on and gate arrival at the destination airport (N)\n",
    "* CRS_ARR_TIME: Planned arrival time (N)\n",
    "* ARR_TIME: Actual Arrival Time (N)\n",
    "* ARR_DELAY: Total Delay on Arrival in minutes (N)\n",
    "* CANCELLED: Flight Cancelled (1 = cancelled) (C)\n",
    "* CANCELLATION_CODE: Reason for Cancellation of flight: A - Airline/Carrier; B - Weather; C - National Air System; D - Security (C)\n",
    "* DIVERTED: Aircraft landed on airport that out of schedule (C)\n",
    "* CRS_ELAPSED_TIME: Planned time amount needed for the flight trip (N)\n",
    "* ACTUAL_ELAPSED_TIME: AIR_TIME+TAXI_IN+TAXI_OUT (N)\n",
    "* AIR_TIME: The time duration between wheels_off and wheels_on time (N)\n",
    "* DISTANCE: Distance between two airports (N)\n",
    "* CARRIER_DELAY: Delay caused by the airline in minutes (C)\n",
    "* WEATHER_DELAY: Delay caused by weather (C)\n",
    "* NAS_DELAY: Delay caused by air system (C)\n",
    "* SECURITY_DELAY Delay caused by security (C)\n",
    "* LATE_AIRCRAFT_DELAY: Delay caused aircraft (C)\n",
    "* Unnamed 27: Dummy column"
   ]
  },
  {
   "cell_type": "code",
   "execution_count": 4,
   "id": "da47925c",
   "metadata": {},
   "outputs": [],
   "source": [
    "#Drop dummy column\n",
    "plane_df = plane_df.drop(columns=['Unnamed: 27'])"
   ]
  },
  {
   "cell_type": "code",
   "execution_count": 15,
   "id": "34415ebe",
   "metadata": {},
   "outputs": [
    {
     "name": "stdout",
     "output_type": "stream",
     "text": [
      "Number of duplicate rows: 0\n"
     ]
    }
   ],
   "source": [
    "# Check for duplicate rows\n",
    "duplicates = plane_df.duplicated()\n",
    "num_duplicates = duplicates.sum()\n",
    "print(f\"Number of duplicate rows: {num_duplicates}\")"
   ]
  },
  {
   "cell_type": "markdown",
   "id": "4537ec18",
   "metadata": {},
   "source": [
    " ## Dealing with Missing Values"
   ]
  },
  {
   "cell_type": "code",
   "execution_count": 3,
   "id": "a780fc6b",
   "metadata": {},
   "outputs": [
    {
     "name": "stdout",
     "output_type": "stream",
     "text": [
      "FL_DATE                      0\n",
      "OP_CARRIER                   0\n",
      "OP_CARRIER_FL_NUM            0\n",
      "ORIGIN                       0\n",
      "DEST                         0\n",
      "CRS_DEP_TIME                 0\n",
      "DEP_TIME                112317\n",
      "DEP_DELAY               117234\n",
      "TAXI_OUT                115830\n",
      "WHEELS_OFF              115829\n",
      "WHEELS_ON               119246\n",
      "TAXI_IN                 119246\n",
      "CRS_ARR_TIME                 0\n",
      "ARR_TIME                119245\n",
      "ARR_DELAY               137040\n",
      "CANCELLED                    0\n",
      "CANCELLATION_CODE      7096862\n",
      "DIVERTED                     0\n",
      "CRS_ELAPSED_TIME            10\n",
      "ACTUAL_ELAPSED_TIME     134442\n",
      "AIR_TIME                134442\n",
      "DISTANCE                     0\n",
      "CARRIER_DELAY          5860736\n",
      "WEATHER_DELAY          5860736\n",
      "NAS_DELAY              5860736\n",
      "SECURITY_DELAY         5860736\n",
      "LATE_AIRCRAFT_DELAY    5860736\n",
      "Unnamed: 27            7213446\n",
      "dtype: int64\n"
     ]
    }
   ],
   "source": [
    "#determine columns with missing values\n",
    "sum_missing_values = plane_df.isna().sum()\n",
    "print(sum_missing_values)"
   ]
  },
  {
   "cell_type": "markdown",
   "id": "bd9c07f5",
   "metadata": {},
   "source": [
    "The **time duration** columns are: 'DEP_DELAY', 'TAXI_OUT', 'TAXI_IN', 'ARR_DELAY', 'CRS_ELAPSED_TIME', 'ACTUAL_ELAPSED_TIME', 'AIR_TIME', 'CARRIER_DELAY', 'WEATHER_DELAY', 'NAS_DELAY', 'SECURITY_DELAY', 'LATE_AIRCRAFT_DELAY'. The **time stamp** columns are: 'DEP_TIME', 'WHEELS_OFF', 'WHEELS_ON', 'CRS_DEP_TIME', 'CRS_ARR_TIME', 'ARR_TIME'. To deal with the missing values in these columns, they can all be replaced with 0.\n",
    "\n",
    "The missing values in the 'CANCELLATION_CODE' column are all non-cancelled flights. To get rid of them, add another letter 'E' in this column for non-cancelled flights."
   ]
  },
  {
   "cell_type": "code",
   "execution_count": 6,
   "id": "4df7541d",
   "metadata": {},
   "outputs": [
    {
     "data": {
      "text/plain": [
       "array(['E', 'B', 'A', 'C', 'D'], dtype=object)"
      ]
     },
     "execution_count": 6,
     "metadata": {},
     "output_type": "execute_result"
    }
   ],
   "source": [
    "plane_df['CANCELLATION_CODE'].fillna('E', inplace=True) #E means plane isn't cancelled\n",
    "plane_df['CANCELLATION_CODE'].unique()"
   ]
  },
  {
   "cell_type": "code",
   "execution_count": 7,
   "id": "16154f44",
   "metadata": {},
   "outputs": [],
   "source": [
    "#replace missing duration values with 0\n",
    "missing_duration_cols = ['DEP_DELAY', 'TAXI_OUT', 'TAXI_IN', 'ARR_DELAY', 'CRS_ELAPSED_TIME', 'ACTUAL_ELAPSED_TIME', 'AIR_TIME', 'CARRIER_DELAY', 'WEATHER_DELAY', 'NAS_DELAY', 'SECURITY_DELAY', 'LATE_AIRCRAFT_DELAY']\n",
    "\n",
    "for col in missing_duration_cols:\n",
    "    plane_df[col].fillna(0, inplace=True)"
   ]
  },
  {
   "cell_type": "code",
   "execution_count": 8,
   "id": "b9f9f738",
   "metadata": {},
   "outputs": [
    {
     "name": "stdout",
     "output_type": "stream",
     "text": [
      "FL_DATE                     0\n",
      "OP_CARRIER                  0\n",
      "OP_CARRIER_FL_NUM           0\n",
      "ORIGIN                      0\n",
      "DEST                        0\n",
      "CRS_DEP_TIME                0\n",
      "DEP_TIME               112317\n",
      "DEP_DELAY                   0\n",
      "TAXI_OUT                    0\n",
      "WHEELS_OFF             115829\n",
      "WHEELS_ON              119246\n",
      "TAXI_IN                     0\n",
      "CRS_ARR_TIME                0\n",
      "ARR_TIME               119245\n",
      "ARR_DELAY                   0\n",
      "CANCELLED                   0\n",
      "CANCELLATION_CODE           0\n",
      "DIVERTED                    0\n",
      "CRS_ELAPSED_TIME            0\n",
      "ACTUAL_ELAPSED_TIME         0\n",
      "AIR_TIME                    0\n",
      "DISTANCE                    0\n",
      "CARRIER_DELAY               0\n",
      "WEATHER_DELAY               0\n",
      "NAS_DELAY                   0\n",
      "SECURITY_DELAY              0\n",
      "LATE_AIRCRAFT_DELAY         0\n",
      "dtype: int64\n"
     ]
    }
   ],
   "source": [
    "check_duration_na_fix = plane_df.isna().sum()\n",
    "print(check_duration_na_fix)"
   ]
  },
  {
   "cell_type": "code",
   "execution_count": 9,
   "id": "df9d91a4",
   "metadata": {},
   "outputs": [],
   "source": [
    "#replace missing time values with 0\n",
    "time_columns = ['DEP_TIME', 'WHEELS_OFF', 'WHEELS_ON', 'CRS_DEP_TIME', 'CRS_ARR_TIME', 'ARR_TIME']\n",
    "\n",
    "for col in time_columns:\n",
    "    plane_df[col].fillna(0, inplace=True)"
   ]
  },
  {
   "cell_type": "code",
   "execution_count": 10,
   "id": "43d4f06f",
   "metadata": {},
   "outputs": [
    {
     "name": "stdout",
     "output_type": "stream",
     "text": [
      "FL_DATE                0\n",
      "OP_CARRIER             0\n",
      "OP_CARRIER_FL_NUM      0\n",
      "ORIGIN                 0\n",
      "DEST                   0\n",
      "CRS_DEP_TIME           0\n",
      "DEP_TIME               0\n",
      "DEP_DELAY              0\n",
      "TAXI_OUT               0\n",
      "WHEELS_OFF             0\n",
      "WHEELS_ON              0\n",
      "TAXI_IN                0\n",
      "CRS_ARR_TIME           0\n",
      "ARR_TIME               0\n",
      "ARR_DELAY              0\n",
      "CANCELLED              0\n",
      "CANCELLATION_CODE      0\n",
      "DIVERTED               0\n",
      "CRS_ELAPSED_TIME       0\n",
      "ACTUAL_ELAPSED_TIME    0\n",
      "AIR_TIME               0\n",
      "DISTANCE               0\n",
      "CARRIER_DELAY          0\n",
      "WEATHER_DELAY          0\n",
      "NAS_DELAY              0\n",
      "SECURITY_DELAY         0\n",
      "LATE_AIRCRAFT_DELAY    0\n",
      "dtype: int64\n"
     ]
    }
   ],
   "source": [
    "check_duration_na_fix = plane_df.isna().sum()\n",
    "print(check_duration_na_fix)"
   ]
  },
  {
   "cell_type": "markdown",
   "id": "c5226582",
   "metadata": {},
   "source": [
    "The FL_DATE column is currently of type string. In order to use it for the analyses, convert it to datetime type."
   ]
  },
  {
   "cell_type": "code",
   "execution_count": 11,
   "id": "6138ae0d",
   "metadata": {},
   "outputs": [
    {
     "data": {
      "text/plain": [
       "0         2018-01-01\n",
       "1         2018-01-01\n",
       "2         2018-01-01\n",
       "3         2018-01-01\n",
       "4         2018-01-01\n",
       "             ...    \n",
       "7213441   2018-12-31\n",
       "7213442   2018-12-31\n",
       "7213443   2018-12-31\n",
       "7213444   2018-12-31\n",
       "7213445   2018-12-31\n",
       "Name: FL_DATE, Length: 7213446, dtype: datetime64[ns]"
      ]
     },
     "execution_count": 11,
     "metadata": {},
     "output_type": "execute_result"
    }
   ],
   "source": [
    "#update fl_date to date type\n",
    "plane_df['FL_DATE']=pd.to_datetime(plane_df['FL_DATE'])\n",
    "\n",
    "plane_df['FL_DATE']"
   ]
  }
 ],
 "metadata": {
  "kernelspec": {
   "display_name": "Python 3 (ipykernel)",
   "language": "python",
   "name": "python3"
  },
  "language_info": {
   "codemirror_mode": {
    "name": "ipython",
    "version": 3
   },
   "file_extension": ".py",
   "mimetype": "text/x-python",
   "name": "python",
   "nbconvert_exporter": "python",
   "pygments_lexer": "ipython3",
   "version": "3.11.5"
  }
 },
 "nbformat": 4,
 "nbformat_minor": 5
}
